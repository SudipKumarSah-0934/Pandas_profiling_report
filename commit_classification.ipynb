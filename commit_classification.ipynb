{
 "cells": [
  {
   "cell_type": "code",
   "execution_count": 1,
   "metadata": {
    "colab": {
     "base_uri": "https://localhost:8080/"
    },
    "executionInfo": {
     "elapsed": 5233,
     "status": "ok",
     "timestamp": 1659069916214,
     "user": {
      "displayName": "sudip shah",
      "userId": "15332809226096106801"
     },
     "user_tz": -360
    },
    "id": "x48xzQenRBJ-",
    "outputId": "93bc3564-17cd-4e4b-cf69-5a0a3911d0a4"
   },
   "outputs": [
    {
     "name": "stdout",
     "output_type": "stream",
     "text": [
      "Requirement already satisfied: scikit-ext in c:\\users\\sudip\\appdata\\local\\programs\\python\\python310\\lib\\site-packages (0.1.16)\n",
      "Requirement already satisfied: scipy>=1.3.1 in c:\\users\\sudip\\appdata\\local\\programs\\python\\python310\\lib\\site-packages (from scikit-ext) (1.8.1)\n",
      "Requirement already satisfied: scikit-learn>=0.22.0 in c:\\users\\sudip\\appdata\\local\\programs\\python\\python310\\lib\\site-packages (from scikit-ext) (1.1.1)\n",
      "Requirement already satisfied: numpy>=1.17.0 in c:\\users\\sudip\\appdata\\local\\programs\\python\\python310\\lib\\site-packages (from scikit-ext) (1.23.1)\n",
      "Requirement already satisfied: pandas in c:\\users\\sudip\\appdata\\local\\programs\\python\\python310\\lib\\site-packages (from scikit-ext) (1.4.3)\n",
      "Requirement already satisfied: joblib>=1.0.0 in c:\\users\\sudip\\appdata\\local\\programs\\python\\python310\\lib\\site-packages (from scikit-learn>=0.22.0->scikit-ext) (1.1.0)\n",
      "Requirement already satisfied: threadpoolctl>=2.0.0 in c:\\users\\sudip\\appdata\\local\\programs\\python\\python310\\lib\\site-packages (from scikit-learn>=0.22.0->scikit-ext) (3.1.0)\n",
      "Requirement already satisfied: python-dateutil>=2.8.1 in c:\\users\\sudip\\appdata\\local\\programs\\python\\python310\\lib\\site-packages (from pandas->scikit-ext) (2.8.2)\n",
      "Requirement already satisfied: pytz>=2020.1 in c:\\users\\sudip\\appdata\\local\\programs\\python\\python310\\lib\\site-packages (from pandas->scikit-ext) (2022.1)\n",
      "Requirement already satisfied: six>=1.5 in c:\\users\\sudip\\appdata\\local\\programs\\python\\python310\\lib\\site-packages (from python-dateutil>=2.8.1->pandas->scikit-ext) (1.16.0)\n"
     ]
    }
   ],
   "source": [
    "! pip install scikit-ext"
   ]
  },
  {
   "cell_type": "code",
   "execution_count": 4,
   "metadata": {
    "colab": {
     "base_uri": "https://localhost:8080/"
    },
    "executionInfo": {
     "elapsed": 9884,
     "status": "ok",
     "timestamp": 1659070470711,
     "user": {
      "displayName": "sudip shah",
      "userId": "15332809226096106801"
     },
     "user_tz": -360
    },
    "id": "XpOZDBmNRqFe",
    "outputId": "d0488d9e-59d3-452d-a414-52cb1eac81f0"
   },
   "outputs": [
    {
     "name": "stdout",
     "output_type": "stream",
     "text": [
      "Requirement already satisfied: scikit-learn in c:\\users\\sudip\\appdata\\local\\programs\\python\\python310\\lib\\site-packages (1.1.1)\n",
      "Requirement already satisfied: threadpoolctl>=2.0.0 in c:\\users\\sudip\\appdata\\local\\programs\\python\\python310\\lib\\site-packages (from scikit-learn) (3.1.0)\n",
      "Requirement already satisfied: scipy>=1.3.2 in c:\\users\\sudip\\appdata\\local\\programs\\python\\python310\\lib\\site-packages (from scikit-learn) (1.8.1)\n",
      "Requirement already satisfied: numpy>=1.17.3 in c:\\users\\sudip\\appdata\\local\\programs\\python\\python310\\lib\\site-packages (from scikit-learn) (1.23.1)\n",
      "Requirement already satisfied: joblib>=1.0.0 in c:\\users\\sudip\\appdata\\local\\programs\\python\\python310\\lib\\site-packages (from scikit-learn) (1.1.0)\n"
     ]
    }
   ],
   "source": [
    "! pip install scikit-learn"
   ]
  },
  {
   "cell_type": "code",
   "execution_count": 5,
   "metadata": {
    "executionInfo": {
     "elapsed": 1260,
     "status": "ok",
     "timestamp": 1659072074305,
     "user": {
      "displayName": "sudip shah",
      "userId": "15332809226096106801"
     },
     "user_tz": -360
    },
    "id": "veGeNePyPNNL"
   },
   "outputs": [],
   "source": [
    "# All purpose \n",
    "import pandas as pd\n",
    "import numpy as np\n",
    "import re\n",
    "from numpy import mean\n",
    "from numpy import std\n",
    "# Visualization\n",
    "import seaborn as sns\n",
    "import matplotlib.pyplot as plt\n",
    "\n",
    "# Sklearn ML\n",
    "from sklearn.model_selection import train_test_split\n",
    "from sklearn.tree import DecisionTreeClassifier, plot_tree\n",
    "from sklearn.ensemble import RandomForestClassifier, AdaBoostClassifier\n",
    "from sklearn import metrics\n",
    "from sklearn import preprocessing\n",
    "from sklearn.model_selection import cross_val_score\n",
    "from sklearn.metrics import cohen_kappa_score\n",
    "from sklearn.metrics import confusion_matrix\n",
    "from sklearn.metrics import classification_report\n",
    "from sklearn.metrics import precision_score\n",
    "from sklearn.metrics import precision_recall_fscore_support as score\n",
    "from sklearn.ensemble import GradientBoostingClassifier\n",
    "from sklearn.model_selection import RepeatedStratifiedKFold\n",
    "from sklearn import tree\n",
    "from sklearn.metrics import cohen_kappa_score, make_scorer\n",
    "from sklearn.model_selection import RandomizedSearchCV, GridSearchCV, train_test_split\n",
    "\n",
    "from sklearn.svm import LinearSVC\n",
    "pd.set_option('display.max_rows', None)"
   ]
  },
  {
   "cell_type": "code",
   "execution_count": 7,
   "metadata": {
    "colab": {
     "base_uri": "https://localhost:8080/"
    },
    "executionInfo": {
     "elapsed": 1352,
     "status": "ok",
     "timestamp": 1659072082471,
     "user": {
      "displayName": "sudip shah",
      "userId": "15332809226096106801"
     },
     "user_tz": -360
    },
    "id": "CbW75zXVPXIU",
    "outputId": "c5c4d182-6a26-4b0e-b458-81edd1a2206a"
   },
   "outputs": [
    {
     "name": "stdout",
     "output_type": "stream",
     "text": [
      "dataset shape: (1151, 72)\n"
     ]
    }
   ],
   "source": [
    "dataset = pd.read_csv(\"dataset.csv\", skipinitialspace=True,delimiter=\"#\")\n",
    "print(\"dataset shape:\", dataset.shape)"
   ]
  },
  {
   "cell_type": "code",
   "execution_count": 8,
   "metadata": {
    "executionInfo": {
     "elapsed": 1133,
     "status": "ok",
     "timestamp": 1659072089467,
     "user": {
      "displayName": "sudip shah",
      "userId": "15332809226096106801"
     },
     "user_tz": -360
    },
    "id": "boWNFPV3Pezr"
   },
   "outputs": [],
   "source": [
    "#Keywords\n",
    "X = dataset[[\"add\",\"allow\",\"bug\",\"chang\",\"error\",\"fail\",\"fix\",\"implement\",\"improv\",\"issu\",\"method\",\"new\",\"npe\",\"refactor\",\"remov\",\"report\",\"set\",\"support\",\"test\",\"use\"]]\n",
    "y = dataset[\"label\"]"
   ]
  },
  {
   "cell_type": "code",
   "execution_count": 9,
   "metadata": {
    "executionInfo": {
     "elapsed": 799,
     "status": "ok",
     "timestamp": 1659072095818,
     "user": {
      "displayName": "sudip shah",
      "userId": "15332809226096106801"
     },
     "user_tz": -360
    },
    "id": "Y85h95NEPknk"
   },
   "outputs": [],
   "source": [
    "#Changes\n",
    "X = dataset[[\"ADDING_ATTRIBUTE_MODIFIABILITY\",\"ADDING_CLASS_DERIVABILITY\",\"ADDING_METHOD_OVERRIDABILITY\",\"ADDITIONAL_CLASS\",\"ADDITIONAL_FUNCTIONALITY\",\"ADDITIONAL_OBJECT_STATE\",\"ALTERNATIVE_PART_DELETE\",\"ALTERNATIVE_PART_INSERT\",\"ATTRIBUTE_RENAMING\",\"ATTRIBUTE_TYPE_CHANGE\",\"CLASS_RENAMING\",\"COMMENT_DELETE\",\"COMMENT_INSERT\",\"COMMENT_MOVE\",\"COMMENT_UPDATE\",\"CONDITION_EXPRESSION_CHANGE\",\"DECREASING_ACCESSIBILITY_CHANGE\",\"DOC_DELETE\",\"DOC_INSERT\",\"DOC_UPDATE\",\"INCREASING_ACCESSIBILITY_CHANGE\",\"METHOD_RENAMING\",\"PARAMETER_DELETE\",\"PARAMETER_INSERT\",\"PARAMETER_ORDERING_CHANGE\",\"PARAMETER_RENAMING\",\"PARAMETER_TYPE_CHANGE\",\"PARENT_CLASS_CHANGE\",\"PARENT_CLASS_DELETE\",\"PARENT_CLASS_INSERT\",\"PARENT_INTERFACE_CHANGE\",\"PARENT_INTERFACE_DELETE\",\"PARENT_INTERFACE_INSERT\",\"REMOVED_CLASS\",\"REMOVED_FUNCTIONALITY\",\"REMOVED_OBJECT_STATE\",\"REMOVING_ATTRIBUTE_MODIFIABILITY\",\"REMOVING_CLASS_DERIVABILITY\",\"REMOVING_METHOD_OVERRIDABILITY\",\"RETURN_TYPE_CHANGE\",\"RETURN_TYPE_DELETE\",\"RETURN_TYPE_INSERT\",\"STATEMENT_DELETE\",\"STATEMENT_INSERT\",\"STATEMENT_ORDERING_CHANGE\",\"STATEMENT_PARENT_CHANGE\",\"STATEMENT_UPDATE\",\"UNCLASSIFIED_CHANGE\"]]\n",
    "y = dataset[\"label\"]"
   ]
  },
  {
   "cell_type": "code",
   "execution_count": 10,
   "metadata": {
    "executionInfo": {
     "elapsed": 4,
     "status": "ok",
     "timestamp": 1659072098673,
     "user": {
      "displayName": "sudip shah",
      "userId": "15332809226096106801"
     },
     "user_tz": -360
    },
    "id": "Q7W3xbD2Pp7b"
   },
   "outputs": [],
   "source": [
    "#Combined\n",
    "X = dataset[[\"ADDING_ATTRIBUTE_MODIFIABILITY\",\"ADDING_CLASS_DERIVABILITY\",\"ADDING_METHOD_OVERRIDABILITY\",\"ADDITIONAL_CLASS\",\"ADDITIONAL_FUNCTIONALITY\",\"ADDITIONAL_OBJECT_STATE\",\"ALTERNATIVE_PART_DELETE\",\"ALTERNATIVE_PART_INSERT\",\"ATTRIBUTE_RENAMING\",\"ATTRIBUTE_TYPE_CHANGE\",\"CLASS_RENAMING\",\"COMMENT_DELETE\",\"COMMENT_INSERT\",\"COMMENT_MOVE\",\"COMMENT_UPDATE\",\"CONDITION_EXPRESSION_CHANGE\",\"DECREASING_ACCESSIBILITY_CHANGE\",\"DOC_DELETE\",\"DOC_INSERT\",\"DOC_UPDATE\",\"INCREASING_ACCESSIBILITY_CHANGE\",\"METHOD_RENAMING\",\"PARAMETER_DELETE\",\"PARAMETER_INSERT\",\"PARAMETER_ORDERING_CHANGE\",\"PARAMETER_RENAMING\",\"PARAMETER_TYPE_CHANGE\",\"PARENT_CLASS_CHANGE\",\"PARENT_CLASS_DELETE\",\"PARENT_CLASS_INSERT\",\"PARENT_INTERFACE_CHANGE\",\"PARENT_INTERFACE_DELETE\",\"PARENT_INTERFACE_INSERT\",\"REMOVED_CLASS\",\"REMOVED_FUNCTIONALITY\",\"REMOVED_OBJECT_STATE\",\"REMOVING_ATTRIBUTE_MODIFIABILITY\",\"REMOVING_CLASS_DERIVABILITY\",\"REMOVING_METHOD_OVERRIDABILITY\",\"RETURN_TYPE_CHANGE\",\"RETURN_TYPE_DELETE\",\"RETURN_TYPE_INSERT\",\"STATEMENT_DELETE\",\"STATEMENT_INSERT\",\"STATEMENT_ORDERING_CHANGE\",\"STATEMENT_PARENT_CHANGE\",\"STATEMENT_UPDATE\",\"UNCLASSIFIED_CHANGE\",\"add\",\"allow\",\"bug\",\"chang\",\"error\",\"fail\",\"fix\",\"implement\",\"improv\",\"issu\",\"method\",\"new\",\"npe\",\"refactor\",\"remov\",\"report\",\"set\",\"support\",\"test\",\"use\"]]\n",
    "y = dataset[\"label\"]"
   ]
  },
  {
   "cell_type": "code",
   "execution_count": 11,
   "metadata": {
    "colab": {
     "base_uri": "https://localhost:8080/"
    },
    "executionInfo": {
     "elapsed": 9,
     "status": "ok",
     "timestamp": 1659072100859,
     "user": {
      "displayName": "sudip shah",
      "userId": "15332809226096106801"
     },
     "user_tz": -360
    },
    "id": "KOnYxC8OPt78",
    "outputId": "02c268d1-422a-41ce-a3d2-2aa23359af29"
   },
   "outputs": [
    {
     "name": "stdout",
     "output_type": "stream",
     "text": [
      "(978, 68) (173, 68) (978,) (173,)\n"
     ]
    }
   ],
   "source": [
    "X_train, X_test, y_train, y_test = train_test_split(X, y, test_size = 0.15, random_state = 42)\n",
    "print(X_train.shape, X_test.shape, y_train.shape, y_test.shape)"
   ]
  },
  {
   "cell_type": "code",
   "execution_count": 12,
   "metadata": {
    "colab": {
     "base_uri": "https://localhost:8080/"
    },
    "executionInfo": {
     "elapsed": 911,
     "status": "ok",
     "timestamp": 1659072107394,
     "user": {
      "displayName": "sudip shah",
      "userId": "15332809226096106801"
     },
     "user_tz": -360
    },
    "id": "vGQWqnRWP5g2",
    "outputId": "ebaaae39-8b9d-46e2-a0f3-65ff178231db"
   },
   "outputs": [
    {
     "name": "stdout",
     "output_type": "stream",
     "text": [
      "Random Forest\n",
      "Accuracy: 76.879\n",
      "Kappa: 63.215\n"
     ]
    }
   ],
   "source": [
    "#Random Forest\n",
    "rfc = RandomForestClassifier()\n",
    "rfc.fit(X_train,y_train)\n",
    "rf_pred_train = rfc.predict(X_train)\n",
    "rf_pred_test = rfc.predict(X_test)\n",
    "accuracy = metrics.accuracy_score(y_test, rf_pred_test)\n",
    "print('Random Forest')\n",
    "print('Accuracy: %.3f' % (accuracy*100))\n",
    "#cross-validation\n",
    "#print (np.mean(cross_val_score(rfc, X_train, y_train, cv=10)))\n",
    "#kappa\n",
    "cohen_score = cohen_kappa_score(y_test, rf_pred_test)\n",
    "print('Kappa: %.3f' % (cohen_score*100))"
   ]
  },
  {
   "cell_type": "code",
   "execution_count": 13,
   "metadata": {
    "colab": {
     "base_uri": "https://localhost:8080/"
    },
    "executionInfo": {
     "elapsed": 8,
     "status": "ok",
     "timestamp": 1659072110678,
     "user": {
      "displayName": "sudip shah",
      "userId": "15332809226096106801"
     },
     "user_tz": -360
    },
    "id": "1H0o2R5DQM5e",
    "outputId": "0b7a45fe-9cab-4d11-9047-7552d4228742"
   },
   "outputs": [
    {
     "data": {
      "text/plain": [
       "array([[22,  6,  3],\n",
       "       [ 2, 61, 10],\n",
       "       [ 6, 13, 50]], dtype=int64)"
      ]
     },
     "execution_count": 13,
     "metadata": {},
     "output_type": "execute_result"
    }
   ],
   "source": [
    "matrix = confusion_matrix(y_test, rf_pred_test)\n",
    "matrix"
   ]
  },
  {
   "cell_type": "code",
   "execution_count": 14,
   "metadata": {
    "colab": {
     "base_uri": "https://localhost:8080/"
    },
    "executionInfo": {
     "elapsed": 1184,
     "status": "ok",
     "timestamp": 1659072116370,
     "user": {
      "displayName": "sudip shah",
      "userId": "15332809226096106801"
     },
     "user_tz": -360
    },
    "id": "C5A9NWN_QSEc",
    "outputId": "9ac3a495-a3e4-48ee-9f7f-5c6314472d52"
   },
   "outputs": [
    {
     "name": "stdout",
     "output_type": "stream",
     "text": [
      "              precision    recall  f1-score   support\n",
      "\n",
      "           a       0.73      0.71      0.72        31\n",
      "           c       0.76      0.84      0.80        73\n",
      "           p       0.79      0.72      0.76        69\n",
      "\n",
      "    accuracy                           0.77       173\n",
      "   macro avg       0.76      0.76      0.76       173\n",
      "weighted avg       0.77      0.77      0.77       173\n",
      "\n"
     ]
    }
   ],
   "source": [
    "report = classification_report(y_test, rf_pred_test)\n",
    "print(report)"
   ]
  },
  {
   "cell_type": "code",
   "execution_count": 15,
   "metadata": {
    "colab": {
     "base_uri": "https://localhost:8080/"
    },
    "executionInfo": {
     "elapsed": 959,
     "status": "ok",
     "timestamp": 1659072124060,
     "user": {
      "displayName": "sudip shah",
      "userId": "15332809226096106801"
     },
     "user_tz": -360
    },
    "id": "6PQECvFPQU2V",
    "outputId": "2a8dd06e-713c-449a-a114-ffd84743ada0"
   },
   "outputs": [
    {
     "name": "stdout",
     "output_type": "stream",
     "text": [
      "Precision : [73.33333333 76.25       79.36507937]\n",
      "Recall    : [70.96774194 83.56164384 72.46376812]\n"
     ]
    }
   ],
   "source": [
    "precision,recall,fscore,support=score(y_test, rf_pred_test)\n",
    "print ('Precision : {}'.format(precision*100))\n",
    "print ('Recall    : {}'.format(recall*100))"
   ]
  },
  {
   "cell_type": "code",
   "execution_count": 16,
   "metadata": {
    "colab": {
     "base_uri": "https://localhost:8080/"
    },
    "executionInfo": {
     "elapsed": 31497,
     "status": "ok",
     "timestamp": 1659072160828,
     "user": {
      "displayName": "sudip shah",
      "userId": "15332809226096106801"
     },
     "user_tz": -360
    },
    "id": "90T0ifV4QYrU",
    "outputId": "fb135d5e-72f3-4ae0-d0e3-b28771d03d89"
   },
   "outputs": [
    {
     "name": "stdout",
     "output_type": "stream",
     "text": [
      "GBM\n",
      "Accuracy: 73.119\n",
      "Kappa: 64.245\n"
     ]
    }
   ],
   "source": [
    "#GBM\n",
    "model = GradientBoostingClassifier()\n",
    "model.fit(X_train, y_train)\n",
    "cv = RepeatedStratifiedKFold(n_splits=10, n_repeats=5, random_state=1)\n",
    "n_scores = cross_val_score(model, X, y, scoring='accuracy', cv=cv, n_jobs=-1, error_score='raise')\n",
    "print('GBM')\n",
    "print('Accuracy: %.3f' % (mean(n_scores)*100))\n",
    "gbm_pred_test = model.predict(X_test)\n",
    "cohen_score = cohen_kappa_score(y_test, gbm_pred_test)\n",
    "print('Kappa: %.3f' % (cohen_score*100))"
   ]
  },
  {
   "cell_type": "code",
   "execution_count": 17,
   "metadata": {
    "colab": {
     "base_uri": "https://localhost:8080/"
    },
    "executionInfo": {
     "elapsed": 971,
     "status": "ok",
     "timestamp": 1659072187087,
     "user": {
      "displayName": "sudip shah",
      "userId": "15332809226096106801"
     },
     "user_tz": -360
    },
    "id": "I4uEE6sAQdCa",
    "outputId": "4cc6541a-65b3-4552-b760-b3b04f38d2d1"
   },
   "outputs": [
    {
     "name": "stdout",
     "output_type": "stream",
     "text": [
      "J48\n",
      "Accuracy: 64.162\n",
      "Kappa: 43.098\n"
     ]
    }
   ],
   "source": [
    "#J48\n",
    "clf = tree.DecisionTreeClassifier()\n",
    "clf.fit(X_train, y_train)\n",
    "clf_pred_train = clf.predict(X_train)\n",
    "clf_pred_test = clf.predict(X_test)\n",
    "accuracy = metrics.accuracy_score(y_test, clf_pred_test)\n",
    "print('J48')\n",
    "print('Accuracy: %.3f' % (accuracy*100))\n",
    "cohen_score = cohen_kappa_score(y_test, clf_pred_test)\n",
    "print('Kappa: %.3f' % (cohen_score*100))"
   ]
  },
  {
   "cell_type": "code",
   "execution_count": null,
   "metadata": {
    "id": "6FoWxbIkW6c8"
   },
   "outputs": [],
   "source": []
  }
 ],
 "metadata": {
  "colab": {
   "authorship_tag": "ABX9TyPBi674k4cJXjrecqJEZo+l",
   "collapsed_sections": [],
   "mount_file_id": "1_DadAY8AegIvwjpNQNe6Ad5ey3QcZqqs",
   "name": "commit_classification.ipynb",
   "provenance": []
  },
  "kernelspec": {
   "display_name": "Python 3 (ipykernel)",
   "language": "python",
   "name": "python3"
  },
  "language_info": {
   "codemirror_mode": {
    "name": "ipython",
    "version": 3
   },
   "file_extension": ".py",
   "mimetype": "text/x-python",
   "name": "python",
   "nbconvert_exporter": "python",
   "pygments_lexer": "ipython3",
   "version": "3.10.5"
  },
  "vscode": {
   "interpreter": {
    "hash": "31c14d95f957c507ae9e051360a50cdd819c7a4efd5482dc267d0db69bd1d0c7"
   }
  }
 },
 "nbformat": 4,
 "nbformat_minor": 4
}
